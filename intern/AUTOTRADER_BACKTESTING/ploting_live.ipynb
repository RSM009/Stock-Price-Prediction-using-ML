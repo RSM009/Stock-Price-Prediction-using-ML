{
 "cells": [
  {
   "cell_type": "code",
   "execution_count": 1,
   "id": "f2c987a4",
   "metadata": {},
   "outputs": [],
   "source": [
    "import time\n",
    "import psutil\n",
    "import matplotlib.pyplot as plt\n",
    "import yfinance as yf\n",
    "import pandas as pd\n",
    "from datetime import datetime\n",
    "\n"
   ]
  },
  {
   "cell_type": "code",
   "execution_count": 2,
   "id": "151f3f02",
   "metadata": {},
   "outputs": [],
   "source": [
    "#%matplotlib notebook\n",
    "plt.rcParams['animation.html'] = 'jshtml'\n"
   ]
  },
  {
   "cell_type": "code",
   "execution_count": 3,
   "id": "76c9ef8b",
   "metadata": {},
   "outputs": [
    {
     "name": "stdout",
     "output_type": "stream",
     "text": [
      "ticker: -  ['AUDUSD=X']\n",
      "[*********************100%***********************]  1 of 1 completed\n"
     ]
    },
    {
     "data": {
      "text/html": [
       "<div>\n",
       "<style scoped>\n",
       "    .dataframe tbody tr th:only-of-type {\n",
       "        vertical-align: middle;\n",
       "    }\n",
       "\n",
       "    .dataframe tbody tr th {\n",
       "        vertical-align: top;\n",
       "    }\n",
       "\n",
       "    .dataframe thead th {\n",
       "        text-align: right;\n",
       "    }\n",
       "</style>\n",
       "<table border=\"1\" class=\"dataframe\">\n",
       "  <thead>\n",
       "    <tr style=\"text-align: right;\">\n",
       "      <th></th>\n",
       "      <th>Open</th>\n",
       "      <th>High</th>\n",
       "      <th>Low</th>\n",
       "      <th>Close</th>\n",
       "      <th>Adj Close</th>\n",
       "      <th>Volume</th>\n",
       "    </tr>\n",
       "    <tr>\n",
       "      <th>Datetime</th>\n",
       "      <th></th>\n",
       "      <th></th>\n",
       "      <th></th>\n",
       "      <th></th>\n",
       "      <th></th>\n",
       "      <th></th>\n",
       "    </tr>\n",
       "  </thead>\n",
       "  <tbody>\n",
       "    <tr>\n",
       "      <th>2023-05-12 04:42:51+01:00</th>\n",
       "      <td>0.668726</td>\n",
       "      <td>0.668726</td>\n",
       "      <td>0.668726</td>\n",
       "      <td>0.668726</td>\n",
       "      <td>0.668726</td>\n",
       "      <td>0</td>\n",
       "    </tr>\n",
       "  </tbody>\n",
       "</table>\n",
       "</div>"
      ],
      "text/plain": [
       "                               Open      High       Low     Close  Adj Close   \n",
       "Datetime                                                                       \n",
       "2023-05-12 04:42:51+01:00  0.668726  0.668726  0.668726  0.668726   0.668726  \\\n",
       "\n",
       "                           Volume  \n",
       "Datetime                           \n",
       "2023-05-12 04:42:51+01:00       0  "
      ]
     },
     "execution_count": 3,
     "metadata": {},
     "output_type": "execute_result"
    }
   ],
   "source": [
    "def get_live_data(symbol):\n",
    "    \"\"\"Queries yfinance every second to get the latest tick data.\"\"\"\n",
    "    # while True:\n",
    "        # Get the latest tick data\n",
    "    tick_data = yf.download(symbol, interval='1m', start=\"2023-05-12\",end=\"2023-05-14\")\n",
    "#    tick_data = tick_data['Close']\n",
    "    tick_data =  tick_data.\n",
    "    return tick_data    \n",
    "get_live_data(symbol='AUDUSD=X')  "
   ]
  },
  {
   "cell_type": "code",
   "execution_count": 4,
   "id": "6fb51999",
   "metadata": {},
   "outputs": [
    {
     "data": {
      "image/png": "[encoded data removed]",
      "text/plain": [
       "<Figure size 640x480 with 1 Axes>"
      ]
     },
     "metadata": {},
     "output_type": "display_data"
    }
   ],
   "source": [
    "fig = plt.figure()\n",
    "ax = fig.add_subplot(111)\n",
    "# fig.show()"
   ]
  },
  {
   "cell_type": "code",
   "execution_count": 5,
   "id": "3a341b9f",
   "metadata": {},
   "outputs": [],
   "source": [
    "# i = 0\n",
    "# x, y = [], []\n",
    "\n",
    "# while True:\n",
    "\n",
    "#     x.append(i)\n",
    "#     y.append(get_live_data(symbol='AUDUSD=X'))\n",
    "    \n",
    "#     ax.plot(x, y, color='b')\n",
    "    \n",
    "#     fig.canvas.draw()\n",
    "    \n",
    "#     ax.set_xlim(left=max(0, i-100), right=i+100)\n",
    "    \n",
    "# #     time.sleep(0.001)\n",
    "#     i += 1"
   ]
  },
  {
   "cell_type": "code",
   "execution_count": 6,
   "id": "9e1f47df",
   "metadata": {},
   "outputs": [
    {
     "name": "stdout",
     "output_type": "stream",
     "text": [
      "ticker: -  ['AUDUSD=X']\n",
      "[*********************100%***********************]  1 of 1 completed\n",
      "ticker: -  ['AUDUSD=X']\n",
      "[*********************100%***********************]  1 of 1 completed\n",
      "                               Open      High       Low     Close  Adj Close   \n",
      "Datetime                                                                       \n",
      "2023-05-12 04:42:51+01:00  0.668726  0.668726  0.668726  0.668726   0.668726  \\\n",
      "\n",
      "                           Volume  \n",
      "Datetime                           \n",
      "2023-05-12 04:42:51+01:00       0  \n",
      "ticker: -  ['AUDUSD=X']\n",
      "[*********************100%***********************]  1 of 1 completed\n",
      "ticker: -  ['AUDUSD=X']\n",
      "[*********************100%***********************]  1 of 1 completed\n",
      "                               Open      High       Low     Close  Adj Close   \n",
      "Datetime                                                                       \n",
      "2023-05-12 04:42:51+01:00  0.668726  0.668726  0.668726  0.668726   0.668726  \\\n",
      "\n",
      "                           Volume  \n",
      "Datetime                           \n",
      "2023-05-12 04:42:51+01:00       0  \n",
      "ticker: -  ['AUDUSD=X']\n",
      "[*********************100%***********************]  1 of 1 completed\n",
      "ticker: -  ['AUDUSD=X']\n",
      "[*********************100%***********************]  1 of 1 completed\n",
      "                               Open      High       Low     Close  Adj Close   \n",
      "Datetime                                                                       \n",
      "2023-05-12 04:42:51+01:00  0.668726  0.668726  0.668726  0.668726   0.668726  \\\n",
      "\n",
      "                           Volume  \n",
      "Datetime                           \n",
      "2023-05-12 04:42:51+01:00       0  \n",
      "ticker: -  ['AUDUSD=X']\n",
      "[*********************100%***********************]  1 of 1 completed\n",
      "ticker: -  ['AUDUSD=X']\n",
      "[*********************100%***********************]  1 of 1 completed\n",
      "                               Open      High       Low     Close  Adj Close   \n",
      "Datetime                                                                       \n",
      "2023-05-12 04:42:51+01:00  0.668726  0.668726  0.668726  0.668726   0.668726  \\\n",
      "\n",
      "                           Volume  \n",
      "Datetime                           \n",
      "2023-05-12 04:42:51+01:00       0  \n",
      "ticker: -  ['AUDUSD=X']\n",
      "[*********************100%***********************]  1 of 1 completed\n",
      "ticker: -  ['AUDUSD=X']\n",
      "[*********************100%***********************]  1 of 1 completed\n",
      "                               Open      High       Low     Close  Adj Close   \n",
      "Datetime                                                                       \n",
      "2023-05-12 04:42:51+01:00  0.668726  0.668726  0.668726  0.668726   0.668726  \\\n",
      "\n",
      "                           Volume  \n",
      "Datetime                           \n",
      "2023-05-12 04:42:51+01:00       0  \n",
      "ticker: -  ['AUDUSD=X']\n",
      "[*********************100%***********************]  1 of 1 completed\n",
      "ticker: -  ['AUDUSD=X']\n",
      "[*********************100%***********************]  1 of 1 completed\n",
      "                               Open      High       Low     Close  Adj Close   \n",
      "Datetime                                                                       \n",
      "2023-05-12 04:42:51+01:00  0.668726  0.668726  0.668726  0.668726   0.668726  \\\n",
      "\n",
      "                           Volume  \n",
      "Datetime                           \n",
      "2023-05-12 04:42:51+01:00       0  \n",
      "ticker: -  ['AUDUSD=X']\n",
      "[*********************100%***********************]  1 of 1 completed\n",
      "ticker: -  ['AUDUSD=X']\n",
      "[*********************100%***********************]  1 of 1 completed\n",
      "                               Open      High       Low     Close  Adj Close   \n",
      "Datetime                                                                       \n",
      "2023-05-12 04:42:51+01:00  0.668726  0.668726  0.668726  0.668726   0.668726  \\\n",
      "\n",
      "                           Volume  \n",
      "Datetime                           \n",
      "2023-05-12 04:42:51+01:00       0  \n",
      "ticker: -  ['AUDUSD=X']\n",
      "[*********************100%***********************]  1 of 1 completed\n",
      "ticker: -  ['AUDUSD=X']\n",
      "[*********************100%***********************]  1 of 1 completed\n",
      "                               Open      High       Low     Close  Adj Close   \n",
      "Datetime                                                                       \n",
      "2023-05-12 04:42:51+01:00  0.668726  0.668726  0.668726  0.668726   0.668726  \\\n",
      "\n",
      "                           Volume  \n",
      "Datetime                           \n",
      "2023-05-12 04:42:51+01:00       0  \n",
      "ticker: -  ['AUDUSD=X']\n",
      "[*********************100%***********************]  1 of 1 completed\n",
      "ticker: -  ['AUDUSD=X']\n",
      "[*********************100%***********************]  1 of 1 completed\n",
      "                               Open      High       Low     Close  Adj Close   \n",
      "Datetime                                                                       \n",
      "2023-05-12 04:42:51+01:00  0.668726  0.668726  0.668726  0.668726   0.668726  \\\n",
      "\n",
      "                           Volume  \n",
      "Datetime                           \n",
      "2023-05-12 04:42:51+01:00       0  \n",
      "ticker: -  ['AUDUSD=X']\n",
      "[*********************100%***********************]  1 of 1 completed\n",
      "ticker: -  ['AUDUSD=X']\n",
      "[*********************100%***********************]  1 of 1 completed\n",
      "                               Open      High       Low     Close  Adj Close   \n",
      "Datetime                                                                       \n",
      "2023-05-12 04:42:51+01:00  0.668726  0.668726  0.668726  0.668726   0.668726  \\\n",
      "\n",
      "                           Volume  \n",
      "Datetime                           \n",
      "2023-05-12 04:42:51+01:00       0  \n",
      "ticker: -  ['AUDUSD=X']\n",
      "[*********************100%***********************]  1 of 1 completed\n",
      "ticker: -  ['AUDUSD=X']\n",
      "[*********************100%***********************]  1 of 1 completed\n",
      "                               Open      High       Low     Close  Adj Close   \n",
      "Datetime                                                                       \n",
      "2023-05-12 04:42:51+01:00  0.668726  0.668726  0.668726  0.668726   0.668726  \\\n",
      "\n",
      "                           Volume  \n",
      "Datetime                           \n",
      "2023-05-12 04:42:51+01:00       0  \n",
      "ticker: -  ['AUDUSD=X']\n",
      "[*********************100%***********************]  1 of 1 completed\n",
      "ticker: -  ['AUDUSD=X']\n"
     ]
    },
    {
     "ename": "KeyboardInterrupt",
     "evalue": "",
     "output_type": "error",
     "traceback": [
      "\u001b[0;31m---------------------------------------------------------------------------\u001b[0m",
      "\u001b[0;31mKeyboardInterrupt\u001b[0m                         Traceback (most recent call last)",
      "Input \u001b[0;32mIn [6]\u001b[0m, in \u001b[0;36m<cell line: 9>\u001b[0;34m()\u001b[0m\n\u001b[1;32m     15\u001b[0m         x \u001b[38;5;241m=\u001b[39m x[\u001b[38;5;241m-\u001b[39m\u001b[38;5;241m100\u001b[39m:]\n\u001b[1;32m     16\u001b[0m         y \u001b[38;5;241m=\u001b[39m y[\u001b[38;5;241m-\u001b[39m\u001b[38;5;241m100\u001b[39m:]\n\u001b[0;32m---> 17\u001b[0m     dx \u001b[38;5;241m=\u001b[39m \u001b[43mget_live_data\u001b[49m\u001b[43m(\u001b[49m\u001b[43msymbol\u001b[49m\u001b[38;5;241;43m=\u001b[39;49m\u001b[38;5;124;43m'\u001b[39;49m\u001b[38;5;124;43mAUDUSD=X\u001b[39;49m\u001b[38;5;124;43m'\u001b[39;49m\u001b[43m)\u001b[49m\n\u001b[1;32m     18\u001b[0m \u001b[38;5;66;03m#     print(\",dx['Open'])\u001b[39;00m\n\u001b[1;32m     19\u001b[0m \u001b[38;5;66;03m#     data = {'Open': dx['Open'], 'Close': dx['Close'], 'High': dx['High'], 'Low': dx['Low']}\u001b[39;00m\n\u001b[1;32m     20\u001b[0m     df \u001b[38;5;241m=\u001b[39m dx\n",
      "Input \u001b[0;32mIn [3]\u001b[0m, in \u001b[0;36mget_live_data\u001b[0;34m(symbol)\u001b[0m\n\u001b[1;32m      2\u001b[0m     \u001b[38;5;124;03m\"\"\"Queries yfinance every second to get the latest tick data.\"\"\"\u001b[39;00m\n\u001b[1;32m      3\u001b[0m     \u001b[38;5;66;03m# while True:\u001b[39;00m\n\u001b[1;32m      4\u001b[0m         \u001b[38;5;66;03m# Get the latest tick data\u001b[39;00m\n\u001b[0;32m----> 5\u001b[0m     tick_data \u001b[38;5;241m=\u001b[39m \u001b[43myf\u001b[49m\u001b[38;5;241;43m.\u001b[39;49m\u001b[43mdownload\u001b[49m\u001b[43m(\u001b[49m\u001b[43msymbol\u001b[49m\u001b[43m,\u001b[49m\u001b[43m \u001b[49m\u001b[43minterval\u001b[49m\u001b[38;5;241;43m=\u001b[39;49m\u001b[38;5;124;43m'\u001b[39;49m\u001b[38;5;124;43m1m\u001b[39;49m\u001b[38;5;124;43m'\u001b[39;49m\u001b[43m,\u001b[49m\u001b[43m \u001b[49m\u001b[43mstart\u001b[49m\u001b[38;5;241;43m=\u001b[39;49m\u001b[38;5;124;43m\"\u001b[39;49m\u001b[38;5;124;43m2023-05-12\u001b[39;49m\u001b[38;5;124;43m\"\u001b[39;49m\u001b[43m,\u001b[49m\u001b[43mend\u001b[49m\u001b[38;5;241;43m=\u001b[39;49m\u001b[38;5;124;43m\"\u001b[39;49m\u001b[38;5;124;43m2023-05-14\u001b[39;49m\u001b[38;5;124;43m\"\u001b[39;49m\u001b[43m)\u001b[49m\n\u001b[1;32m      6\u001b[0m \u001b[38;5;66;03m#    tick_data = tick_data['Close']\u001b[39;00m\n\u001b[1;32m      7\u001b[0m     tick_data \u001b[38;5;241m=\u001b[39m  tick_data\u001b[38;5;241m.\u001b[39mtail(\u001b[38;5;241m1\u001b[39m)\n",
      "File \u001b[0;32m/opt/homebrew/lib/python3.10/site-packages/yfinance/multi.py:116\u001b[0m, in \u001b[0;36mdownload\u001b[0;34m(tickers, start, end, actions, threads, group_by, auto_adjust, back_adjust, progress, period, show_errors, interval, prepost, proxy, rounding, timeout, **kwargs)\u001b[0m\n\u001b[1;32m    109\u001b[0m         _download_one_threaded(ticker, period\u001b[38;5;241m=\u001b[39mperiod, interval\u001b[38;5;241m=\u001b[39minterval,\n\u001b[1;32m    110\u001b[0m                                start\u001b[38;5;241m=\u001b[39mstart, end\u001b[38;5;241m=\u001b[39mend, prepost\u001b[38;5;241m=\u001b[39mprepost,\n\u001b[1;32m    111\u001b[0m                                actions\u001b[38;5;241m=\u001b[39mactions, auto_adjust\u001b[38;5;241m=\u001b[39mauto_adjust,\n\u001b[1;32m    112\u001b[0m                                back_adjust\u001b[38;5;241m=\u001b[39mback_adjust,\n\u001b[1;32m    113\u001b[0m                                progress\u001b[38;5;241m=\u001b[39m(progress \u001b[38;5;129;01mand\u001b[39;00m i \u001b[38;5;241m>\u001b[39m \u001b[38;5;241m0\u001b[39m), proxy\u001b[38;5;241m=\u001b[39mproxy,\n\u001b[1;32m    114\u001b[0m                                rounding\u001b[38;5;241m=\u001b[39mrounding, timeout\u001b[38;5;241m=\u001b[39mtimeout)\n\u001b[1;32m    115\u001b[0m     \u001b[38;5;28;01mwhile\u001b[39;00m \u001b[38;5;28mlen\u001b[39m(shared\u001b[38;5;241m.\u001b[39m_DFS) \u001b[38;5;241m<\u001b[39m \u001b[38;5;28mlen\u001b[39m(tickers):\n\u001b[0;32m--> 116\u001b[0m         \u001b[43m_time\u001b[49m\u001b[38;5;241;43m.\u001b[39;49m\u001b[43msleep\u001b[49m\u001b[43m(\u001b[49m\u001b[38;5;241;43m0.00\u001b[39;49m\u001b[43m)\u001b[49m\n\u001b[1;32m    117\u001b[0m     \u001b[38;5;66;03m# print()  \u001b[39;00m\n\u001b[1;32m    118\u001b[0m \u001b[38;5;66;03m# download synchronously\u001b[39;00m\n\u001b[1;32m    119\u001b[0m \u001b[38;5;28;01melse\u001b[39;00m:\n\u001b[1;32m    120\u001b[0m     \u001b[38;5;66;03m# print(\"else thread\")\u001b[39;00m\n\u001b[1;32m    121\u001b[0m     \u001b[38;5;28;01mfor\u001b[39;00m i, ticker \u001b[38;5;129;01min\u001b[39;00m \u001b[38;5;28menumerate\u001b[39m(tickers):\n",
      "\u001b[0;31mKeyboardInterrupt\u001b[0m: "
     ]
    },
    {
     "data": {
      "image/png": "[encoded data removed]",
      "text/plain": [
       "<Figure size 1000x600 with 1 Axes>"
      ]
     },
     "metadata": {},
     "output_type": "display_data"
    }
   ],
   "source": [
    "import matplotlib.pyplot as plt\n",
    "import mplfinance as mpf\n",
    "\n",
    "i = 0\n",
    "x, y = [], []\n",
    "\n",
    "fig, ax = plt.subplots(figsize=(10, 6))\n",
    "\n",
    "while True:\n",
    "\n",
    "    x.append(i)\n",
    "    y.append(get_live_tick(symbol='AUDUSD=X'))\n",
    "\n",
    "    if len(x) > 100:\n",
    "        x = x[-100:]\n",
    "        y = y[-100:]\n",
    "    dx = get_live_data(symbol='AUDUSD=X')\n",
    "#     print(\",dx['Open'])\n",
    "#     data = {'Open': dx['Open'], 'Close': dx['Close'], 'High': dx['High'], 'Low': dx['Low']}\n",
    "    df = dx\n",
    "    print(df)\n",
    "    mpf.plot(df, type='candle', ax=ax, volume=False)\n",
    "\n",
    "    fig.canvas.draw()\n",
    "    \n",
    "    ax.set_xlim(left=max(0, i-100), right=i+100)\n",
    "    time.sleep(0.01)\n",
    "    i += 1"
   ]
  },
  {
   "cell_type": "code",
   "execution_count": null,
   "id": "9b560ddc",
   "metadata": {},
   "outputs": [],
   "source": []
  }
 ],
 "metadata": {
  "kernelspec": {
   "display_name": "Python 3 (ipykernel)",
   "language": "python",
   "name": "python3"
  },
  "language_info": {
   "codemirror_mode": {
    "name": "ipython",
    "version": 3
   },
   "file_extension": ".py",
   "mimetype": "text/x-python",
   "name": "python",
   "nbconvert_exporter": "python",
   "pygments_lexer": "ipython3",
   "version": "3.11.3"
  },
  "vscode": {
   "interpreter": {
    "hash": "b0fa6594d8f4cbf19f97940f81e996739fb7646882a419484c72d19e05852a7e"
   }
  }
 },
 "nbformat": 4,
 "nbformat_minor": 5
}
